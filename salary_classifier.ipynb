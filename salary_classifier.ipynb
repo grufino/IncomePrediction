{
 "cells": [
  {
   "cell_type": "markdown",
   "metadata": {
    "collapsed": true,
    "pycharm": {
     "name": "#%% md\n"
    }
   },
   "source": [
    "# Project 1 - Classification of Income Data into salary ranges\n",
    "\n",
    "by: Gabriel Rufino - Matriculation number 808863"
   ]
  },
  {
   "cell_type": "markdown",
   "source": [
    "### Problem setting\n",
    "A polling institute wants to be able to estimate an individual’s income from his/her personal data (see einkommen.train). To this aim, 30.000 individuals were interviewed concerning the features summarized below. For some of the individuals, not all features are\n",
    "available. Crucially, the income of only 5.000 of the interviewee’s is known.\n",
    "Your task is to predict the income group of the remaining 25.000 interviewees and to\n",
    "prepare the data such that they can be used for further regression and correlation analyses.\n",
    "\n",
    "### Imports"
   ],
   "metadata": {
    "collapsed": false,
    "pycharm": {
     "name": "#%% md\n"
    }
   }
  },
  {
   "cell_type": "code",
   "execution_count": 4,
   "outputs": [],
   "source": [
    "import numpy as np\n",
    "import pandas as pd\n",
    "import seaborn as sns\n",
    "import matplotlib.pyplot as plt\n",
    "from sklearn.feature_selection import mutual_info_classif\n",
    "from sklearn.model_selection import train_test_split\n",
    "from sklearn.linear_model import LogisticRegression\n",
    "from sklearn.metrics import accuracy_score\n",
    "from sklearn.svm import SVC\n",
    "from sklearn.ensemble import RandomForestClassifier\n",
    "from tensorflow import keras\n",
    "from tensorflow.keras import layers\n",
    "from sklearn.preprocessing import PolynomialFeatures\n",
    "from sklearn.metrics import confusion_matrix\n",
    "from sklearn.svm import LinearSVC\n",
    "from sklearn.ensemble import GradientBoostingClassifier\n",
    "from sklearn.model_selection import cross_validate\n",
    "from sklearn.datasets import make_regression\n",
    "from sklearn.feature_selection import SelectKBest\n",
    "from sklearn.feature_selection import f_regression\n",
    "from sklearn.feature_selection import f_classif\n",
    "from sklearn import metrics\n",
    "from sklearn.naive_bayes import GaussianNB\n",
    "from sklearn.feature_selection import SelectPercentile, chi2\n",
    "from sklearn import tree"
   ],
   "metadata": {
    "collapsed": false,
    "pycharm": {
     "name": "#%%\n"
    }
   }
  },
  {
   "cell_type": "markdown",
   "source": [
    "### Load CSV, add headers"
   ],
   "metadata": {
    "collapsed": false
   }
  },
  {
   "cell_type": "code",
   "execution_count": 5,
   "outputs": [
    {
     "data": {
      "text/plain": "       age    employment_type  bias_weight education_level  education_period  \\\n0       39          State-gov        77516       Bachelors                13   \n1       50   Self-emp-not-inc        83311       Bachelors                13   \n2       38            Private       215646         HS-grad                 9   \n3       53            Private       234721            11th                 7   \n4       28            Private       338409       Bachelors                13   \n...    ...                ...          ...             ...               ...   \n29995   30            Private        55481         Masters                14   \n29996   48            Private       119471       Assoc-voc                11   \n29997   61          Local-gov       167347    Some-college                10   \n29998   41            Private       184378         HS-grad                 9   \n29999   36            Private       348960         HS-grad                 9   \n\n            marital_status     employment_area     partnership  \\\n0            Never-married        Adm-clerical   Not-in-family   \n1       Married-civ-spouse     Exec-managerial         Husband   \n2                 Divorced   Handlers-cleaners   Not-in-family   \n3       Married-civ-spouse   Handlers-cleaners         Husband   \n4       Married-civ-spouse      Prof-specialty            Wife   \n...                    ...                 ...             ...   \n29995        Never-married        Tech-support       Unmarried   \n29996   Married-civ-spouse       Other-service         Husband   \n29997   Married-civ-spouse        Adm-clerical         Husband   \n29998            Separated        Craft-repair   Not-in-family   \n29999        Never-married        Tech-support   Not-in-family   \n\n                 ethnicity   gender  investment_gain  investment_loss  \\\n0                    White     Male             2174                0   \n1                    White     Male                0                0   \n2                    White     Male                0                0   \n3                    Black     Male                0                0   \n4                    Black   Female                0                0   \n...                    ...      ...              ...              ...   \n29995                White     Male                0                0   \n29996   Asian-Pac-Islander     Male                0                0   \n29997                White     Male                0                0   \n29998                White     Male                0                0   \n29999                White     Male                0                0   \n\n       weekly_workload   birth_country income_range  \n0                   40   United-States        <=50K  \n1                   13   United-States        <=50K  \n2                   40   United-States        <=50K  \n3                   40   United-States        <=50K  \n4                   40            Cuba        <=50K  \n...                ...             ...          ...  \n29995               45       Nicaragua            ?  \n29996               56     Philippines            ?  \n29997               35   United-States            ?  \n29998               40   United-States            ?  \n29999               50   United-States            ?  \n\n[30000 rows x 15 columns]",
      "text/html": "<div>\n<style scoped>\n    .dataframe tbody tr th:only-of-type {\n        vertical-align: middle;\n    }\n\n    .dataframe tbody tr th {\n        vertical-align: top;\n    }\n\n    .dataframe thead th {\n        text-align: right;\n    }\n</style>\n<table border=\"1\" class=\"dataframe\">\n  <thead>\n    <tr style=\"text-align: right;\">\n      <th></th>\n      <th>age</th>\n      <th>employment_type</th>\n      <th>bias_weight</th>\n      <th>education_level</th>\n      <th>education_period</th>\n      <th>marital_status</th>\n      <th>employment_area</th>\n      <th>partnership</th>\n      <th>ethnicity</th>\n      <th>gender</th>\n      <th>investment_gain</th>\n      <th>investment_loss</th>\n      <th>weekly_workload</th>\n      <th>birth_country</th>\n      <th>income_range</th>\n    </tr>\n  </thead>\n  <tbody>\n    <tr>\n      <th>0</th>\n      <td>39</td>\n      <td>State-gov</td>\n      <td>77516</td>\n      <td>Bachelors</td>\n      <td>13</td>\n      <td>Never-married</td>\n      <td>Adm-clerical</td>\n      <td>Not-in-family</td>\n      <td>White</td>\n      <td>Male</td>\n      <td>2174</td>\n      <td>0</td>\n      <td>40</td>\n      <td>United-States</td>\n      <td>&lt;=50K</td>\n    </tr>\n    <tr>\n      <th>1</th>\n      <td>50</td>\n      <td>Self-emp-not-inc</td>\n      <td>83311</td>\n      <td>Bachelors</td>\n      <td>13</td>\n      <td>Married-civ-spouse</td>\n      <td>Exec-managerial</td>\n      <td>Husband</td>\n      <td>White</td>\n      <td>Male</td>\n      <td>0</td>\n      <td>0</td>\n      <td>13</td>\n      <td>United-States</td>\n      <td>&lt;=50K</td>\n    </tr>\n    <tr>\n      <th>2</th>\n      <td>38</td>\n      <td>Private</td>\n      <td>215646</td>\n      <td>HS-grad</td>\n      <td>9</td>\n      <td>Divorced</td>\n      <td>Handlers-cleaners</td>\n      <td>Not-in-family</td>\n      <td>White</td>\n      <td>Male</td>\n      <td>0</td>\n      <td>0</td>\n      <td>40</td>\n      <td>United-States</td>\n      <td>&lt;=50K</td>\n    </tr>\n    <tr>\n      <th>3</th>\n      <td>53</td>\n      <td>Private</td>\n      <td>234721</td>\n      <td>11th</td>\n      <td>7</td>\n      <td>Married-civ-spouse</td>\n      <td>Handlers-cleaners</td>\n      <td>Husband</td>\n      <td>Black</td>\n      <td>Male</td>\n      <td>0</td>\n      <td>0</td>\n      <td>40</td>\n      <td>United-States</td>\n      <td>&lt;=50K</td>\n    </tr>\n    <tr>\n      <th>4</th>\n      <td>28</td>\n      <td>Private</td>\n      <td>338409</td>\n      <td>Bachelors</td>\n      <td>13</td>\n      <td>Married-civ-spouse</td>\n      <td>Prof-specialty</td>\n      <td>Wife</td>\n      <td>Black</td>\n      <td>Female</td>\n      <td>0</td>\n      <td>0</td>\n      <td>40</td>\n      <td>Cuba</td>\n      <td>&lt;=50K</td>\n    </tr>\n    <tr>\n      <th>...</th>\n      <td>...</td>\n      <td>...</td>\n      <td>...</td>\n      <td>...</td>\n      <td>...</td>\n      <td>...</td>\n      <td>...</td>\n      <td>...</td>\n      <td>...</td>\n      <td>...</td>\n      <td>...</td>\n      <td>...</td>\n      <td>...</td>\n      <td>...</td>\n      <td>...</td>\n    </tr>\n    <tr>\n      <th>29995</th>\n      <td>30</td>\n      <td>Private</td>\n      <td>55481</td>\n      <td>Masters</td>\n      <td>14</td>\n      <td>Never-married</td>\n      <td>Tech-support</td>\n      <td>Unmarried</td>\n      <td>White</td>\n      <td>Male</td>\n      <td>0</td>\n      <td>0</td>\n      <td>45</td>\n      <td>Nicaragua</td>\n      <td>?</td>\n    </tr>\n    <tr>\n      <th>29996</th>\n      <td>48</td>\n      <td>Private</td>\n      <td>119471</td>\n      <td>Assoc-voc</td>\n      <td>11</td>\n      <td>Married-civ-spouse</td>\n      <td>Other-service</td>\n      <td>Husband</td>\n      <td>Asian-Pac-Islander</td>\n      <td>Male</td>\n      <td>0</td>\n      <td>0</td>\n      <td>56</td>\n      <td>Philippines</td>\n      <td>?</td>\n    </tr>\n    <tr>\n      <th>29997</th>\n      <td>61</td>\n      <td>Local-gov</td>\n      <td>167347</td>\n      <td>Some-college</td>\n      <td>10</td>\n      <td>Married-civ-spouse</td>\n      <td>Adm-clerical</td>\n      <td>Husband</td>\n      <td>White</td>\n      <td>Male</td>\n      <td>0</td>\n      <td>0</td>\n      <td>35</td>\n      <td>United-States</td>\n      <td>?</td>\n    </tr>\n    <tr>\n      <th>29998</th>\n      <td>41</td>\n      <td>Private</td>\n      <td>184378</td>\n      <td>HS-grad</td>\n      <td>9</td>\n      <td>Separated</td>\n      <td>Craft-repair</td>\n      <td>Not-in-family</td>\n      <td>White</td>\n      <td>Male</td>\n      <td>0</td>\n      <td>0</td>\n      <td>40</td>\n      <td>United-States</td>\n      <td>?</td>\n    </tr>\n    <tr>\n      <th>29999</th>\n      <td>36</td>\n      <td>Private</td>\n      <td>348960</td>\n      <td>HS-grad</td>\n      <td>9</td>\n      <td>Never-married</td>\n      <td>Tech-support</td>\n      <td>Not-in-family</td>\n      <td>White</td>\n      <td>Male</td>\n      <td>0</td>\n      <td>0</td>\n      <td>50</td>\n      <td>United-States</td>\n      <td>?</td>\n    </tr>\n  </tbody>\n</table>\n<p>30000 rows × 15 columns</p>\n</div>"
     },
     "execution_count": 5,
     "metadata": {},
     "output_type": "execute_result"
    }
   ],
   "source": [
    "header = ['age', 'employment_type', 'bias_weight', 'education_level', 'education_period', 'marital_status', 'employment_area', 'partnership', 'ethnicity', 'gender', 'investment_gain', 'investment_loss', 'weekly_workload', 'birth_country', 'income_range']\n",
    "\n",
    "df = pd.read_csv('data/einkommen.train', names = header)\n",
    "df\n"
   ],
   "metadata": {
    "collapsed": false,
    "pycharm": {
     "name": "#%%\n"
    }
   }
  },
  {
   "cell_type": "markdown",
   "source": [
    "## Preprocessing\n",
    "\n",
    "### As we see, some income ranges are unknown (?), which doesn't help our prediction model"
   ],
   "metadata": {
    "collapsed": false,
    "pycharm": {
     "name": "#%% md\n"
    }
   }
  },
  {
   "cell_type": "code",
   "execution_count": 6,
   "outputs": [
    {
     "data": {
      "text/plain": " ?        25000\n <=50K     3779\n >50K      1221\nName: income_range, dtype: int64"
     },
     "execution_count": 6,
     "metadata": {},
     "output_type": "execute_result"
    }
   ],
   "source": [
    "counts = df['income_range'].value_counts()\n",
    "unknown_key = counts.keys()[0]\n",
    "counts"
   ],
   "metadata": {
    "collapsed": false,
    "pycharm": {
     "name": "#%%\n"
    }
   }
  },
  {
   "cell_type": "markdown",
   "source": [
    "### Remove unknown"
   ],
   "metadata": {
    "collapsed": false
   }
  },
  {
   "cell_type": "code",
   "execution_count": 7,
   "outputs": [
    {
     "data": {
      "text/plain": "   age    employment_type  bias_weight education_level  education_period  \\\n0   39          State-gov        77516       Bachelors                13   \n1   50   Self-emp-not-inc        83311       Bachelors                13   \n2   38            Private       215646         HS-grad                 9   \n3   53            Private       234721            11th                 7   \n4   28            Private       338409       Bachelors                13   \n\n        marital_status     employment_area     partnership ethnicity   gender  \\\n0        Never-married        Adm-clerical   Not-in-family     White     Male   \n1   Married-civ-spouse     Exec-managerial         Husband     White     Male   \n2             Divorced   Handlers-cleaners   Not-in-family     White     Male   \n3   Married-civ-spouse   Handlers-cleaners         Husband     Black     Male   \n4   Married-civ-spouse      Prof-specialty            Wife     Black   Female   \n\n   investment_gain  investment_loss  weekly_workload   birth_country  \\\n0             2174                0               40   United-States   \n1                0                0               13   United-States   \n2                0                0               40   United-States   \n3                0                0               40   United-States   \n4                0                0               40            Cuba   \n\n  income_range  \n0        <=50K  \n1        <=50K  \n2        <=50K  \n3        <=50K  \n4        <=50K  ",
      "text/html": "<div>\n<style scoped>\n    .dataframe tbody tr th:only-of-type {\n        vertical-align: middle;\n    }\n\n    .dataframe tbody tr th {\n        vertical-align: top;\n    }\n\n    .dataframe thead th {\n        text-align: right;\n    }\n</style>\n<table border=\"1\" class=\"dataframe\">\n  <thead>\n    <tr style=\"text-align: right;\">\n      <th></th>\n      <th>age</th>\n      <th>employment_type</th>\n      <th>bias_weight</th>\n      <th>education_level</th>\n      <th>education_period</th>\n      <th>marital_status</th>\n      <th>employment_area</th>\n      <th>partnership</th>\n      <th>ethnicity</th>\n      <th>gender</th>\n      <th>investment_gain</th>\n      <th>investment_loss</th>\n      <th>weekly_workload</th>\n      <th>birth_country</th>\n      <th>income_range</th>\n    </tr>\n  </thead>\n  <tbody>\n    <tr>\n      <th>0</th>\n      <td>39</td>\n      <td>State-gov</td>\n      <td>77516</td>\n      <td>Bachelors</td>\n      <td>13</td>\n      <td>Never-married</td>\n      <td>Adm-clerical</td>\n      <td>Not-in-family</td>\n      <td>White</td>\n      <td>Male</td>\n      <td>2174</td>\n      <td>0</td>\n      <td>40</td>\n      <td>United-States</td>\n      <td>&lt;=50K</td>\n    </tr>\n    <tr>\n      <th>1</th>\n      <td>50</td>\n      <td>Self-emp-not-inc</td>\n      <td>83311</td>\n      <td>Bachelors</td>\n      <td>13</td>\n      <td>Married-civ-spouse</td>\n      <td>Exec-managerial</td>\n      <td>Husband</td>\n      <td>White</td>\n      <td>Male</td>\n      <td>0</td>\n      <td>0</td>\n      <td>13</td>\n      <td>United-States</td>\n      <td>&lt;=50K</td>\n    </tr>\n    <tr>\n      <th>2</th>\n      <td>38</td>\n      <td>Private</td>\n      <td>215646</td>\n      <td>HS-grad</td>\n      <td>9</td>\n      <td>Divorced</td>\n      <td>Handlers-cleaners</td>\n      <td>Not-in-family</td>\n      <td>White</td>\n      <td>Male</td>\n      <td>0</td>\n      <td>0</td>\n      <td>40</td>\n      <td>United-States</td>\n      <td>&lt;=50K</td>\n    </tr>\n    <tr>\n      <th>3</th>\n      <td>53</td>\n      <td>Private</td>\n      <td>234721</td>\n      <td>11th</td>\n      <td>7</td>\n      <td>Married-civ-spouse</td>\n      <td>Handlers-cleaners</td>\n      <td>Husband</td>\n      <td>Black</td>\n      <td>Male</td>\n      <td>0</td>\n      <td>0</td>\n      <td>40</td>\n      <td>United-States</td>\n      <td>&lt;=50K</td>\n    </tr>\n    <tr>\n      <th>4</th>\n      <td>28</td>\n      <td>Private</td>\n      <td>338409</td>\n      <td>Bachelors</td>\n      <td>13</td>\n      <td>Married-civ-spouse</td>\n      <td>Prof-specialty</td>\n      <td>Wife</td>\n      <td>Black</td>\n      <td>Female</td>\n      <td>0</td>\n      <td>0</td>\n      <td>40</td>\n      <td>Cuba</td>\n      <td>&lt;=50K</td>\n    </tr>\n  </tbody>\n</table>\n</div>"
     },
     "execution_count": 7,
     "metadata": {},
     "output_type": "execute_result"
    }
   ],
   "source": [
    "df = df[df['income_range'] != unknown_key]\n",
    "df.head()"
   ],
   "metadata": {
    "collapsed": false,
    "pycharm": {
     "name": "#%%\n"
    }
   }
  },
  {
   "cell_type": "markdown",
   "source": [
    "### Text values to numerical"
   ],
   "metadata": {
    "collapsed": false
   }
  },
  {
   "cell_type": "code",
   "execution_count": 8,
   "outputs": [
    {
     "name": "stderr",
     "output_type": "stream",
     "text": [
      "<ipython-input-8-9a8993394b4a>:12: SettingWithCopyWarning: \n",
      "A value is trying to be set on a copy of a slice from a DataFrame.\n",
      "Try using .loc[row_indexer,col_indexer] = value instead\n",
      "\n",
      "See the caveats in the documentation: https://pandas.pydata.org/pandas-docs/stable/user_guide/indexing.html#returning-a-view-versus-a-copy\n",
      "  df['employment_type'] = numerical_employment\n",
      "<ipython-input-8-9a8993394b4a>:13: SettingWithCopyWarning: \n",
      "A value is trying to be set on a copy of a slice from a DataFrame.\n",
      "Try using .loc[row_indexer,col_indexer] = value instead\n",
      "\n",
      "See the caveats in the documentation: https://pandas.pydata.org/pandas-docs/stable/user_guide/indexing.html#returning-a-view-versus-a-copy\n",
      "  df['education_level'] = numerical_education_level\n",
      "<ipython-input-8-9a8993394b4a>:14: SettingWithCopyWarning: \n",
      "A value is trying to be set on a copy of a slice from a DataFrame.\n",
      "Try using .loc[row_indexer,col_indexer] = value instead\n",
      "\n",
      "See the caveats in the documentation: https://pandas.pydata.org/pandas-docs/stable/user_guide/indexing.html#returning-a-view-versus-a-copy\n",
      "  df['marital_status'] = numerical_marital_status\n",
      "<ipython-input-8-9a8993394b4a>:15: SettingWithCopyWarning: \n",
      "A value is trying to be set on a copy of a slice from a DataFrame.\n",
      "Try using .loc[row_indexer,col_indexer] = value instead\n",
      "\n",
      "See the caveats in the documentation: https://pandas.pydata.org/pandas-docs/stable/user_guide/indexing.html#returning-a-view-versus-a-copy\n",
      "  df['partnership'] = numerical_partnership\n",
      "<ipython-input-8-9a8993394b4a>:16: SettingWithCopyWarning: \n",
      "A value is trying to be set on a copy of a slice from a DataFrame.\n",
      "Try using .loc[row_indexer,col_indexer] = value instead\n",
      "\n",
      "See the caveats in the documentation: https://pandas.pydata.org/pandas-docs/stable/user_guide/indexing.html#returning-a-view-versus-a-copy\n",
      "  df['ethnicity'] = numerical_ethnicity\n",
      "<ipython-input-8-9a8993394b4a>:17: SettingWithCopyWarning: \n",
      "A value is trying to be set on a copy of a slice from a DataFrame.\n",
      "Try using .loc[row_indexer,col_indexer] = value instead\n",
      "\n",
      "See the caveats in the documentation: https://pandas.pydata.org/pandas-docs/stable/user_guide/indexing.html#returning-a-view-versus-a-copy\n",
      "  df['gender'] = numerical_gender\n",
      "<ipython-input-8-9a8993394b4a>:18: SettingWithCopyWarning: \n",
      "A value is trying to be set on a copy of a slice from a DataFrame.\n",
      "Try using .loc[row_indexer,col_indexer] = value instead\n",
      "\n",
      "See the caveats in the documentation: https://pandas.pydata.org/pandas-docs/stable/user_guide/indexing.html#returning-a-view-versus-a-copy\n",
      "  df['birth_country'] = numerical_birth_country\n",
      "<ipython-input-8-9a8993394b4a>:19: SettingWithCopyWarning: \n",
      "A value is trying to be set on a copy of a slice from a DataFrame.\n",
      "Try using .loc[row_indexer,col_indexer] = value instead\n",
      "\n",
      "See the caveats in the documentation: https://pandas.pydata.org/pandas-docs/stable/user_guide/indexing.html#returning-a-view-versus-a-copy\n",
      "  df['employment_area'] = numerical_employment_area\n",
      "<ipython-input-8-9a8993394b4a>:20: SettingWithCopyWarning: \n",
      "A value is trying to be set on a copy of a slice from a DataFrame.\n",
      "Try using .loc[row_indexer,col_indexer] = value instead\n",
      "\n",
      "See the caveats in the documentation: https://pandas.pydata.org/pandas-docs/stable/user_guide/indexing.html#returning-a-view-versus-a-copy\n",
      "  df['income_range'] = numerical_income_range\n"
     ]
    },
    {
     "data": {
      "text/plain": "   age  employment_type  bias_weight  education_level  education_period  \\\n0   39                0        77516                0                13   \n1   50                1        83311                0                13   \n2   38                2       215646                1                 9   \n3   53                2       234721                2                 7   \n4   28                2       338409                0                13   \n\n   marital_status  employment_area  partnership  ethnicity  gender  \\\n0               0                0            0          0       0   \n1               1                1            1          0       0   \n2               2                2            0          0       0   \n3               1                2            1          1       0   \n4               1                3            2          1       1   \n\n   investment_gain  investment_loss  weekly_workload  birth_country  \\\n0             2174                0               40              0   \n1                0                0               13              0   \n2                0                0               40              0   \n3                0                0               40              0   \n4                0                0               40              1   \n\n   income_range  \n0             0  \n1             0  \n2             0  \n3             0  \n4             0  ",
      "text/html": "<div>\n<style scoped>\n    .dataframe tbody tr th:only-of-type {\n        vertical-align: middle;\n    }\n\n    .dataframe tbody tr th {\n        vertical-align: top;\n    }\n\n    .dataframe thead th {\n        text-align: right;\n    }\n</style>\n<table border=\"1\" class=\"dataframe\">\n  <thead>\n    <tr style=\"text-align: right;\">\n      <th></th>\n      <th>age</th>\n      <th>employment_type</th>\n      <th>bias_weight</th>\n      <th>education_level</th>\n      <th>education_period</th>\n      <th>marital_status</th>\n      <th>employment_area</th>\n      <th>partnership</th>\n      <th>ethnicity</th>\n      <th>gender</th>\n      <th>investment_gain</th>\n      <th>investment_loss</th>\n      <th>weekly_workload</th>\n      <th>birth_country</th>\n      <th>income_range</th>\n    </tr>\n  </thead>\n  <tbody>\n    <tr>\n      <th>0</th>\n      <td>39</td>\n      <td>0</td>\n      <td>77516</td>\n      <td>0</td>\n      <td>13</td>\n      <td>0</td>\n      <td>0</td>\n      <td>0</td>\n      <td>0</td>\n      <td>0</td>\n      <td>2174</td>\n      <td>0</td>\n      <td>40</td>\n      <td>0</td>\n      <td>0</td>\n    </tr>\n    <tr>\n      <th>1</th>\n      <td>50</td>\n      <td>1</td>\n      <td>83311</td>\n      <td>0</td>\n      <td>13</td>\n      <td>1</td>\n      <td>1</td>\n      <td>1</td>\n      <td>0</td>\n      <td>0</td>\n      <td>0</td>\n      <td>0</td>\n      <td>13</td>\n      <td>0</td>\n      <td>0</td>\n    </tr>\n    <tr>\n      <th>2</th>\n      <td>38</td>\n      <td>2</td>\n      <td>215646</td>\n      <td>1</td>\n      <td>9</td>\n      <td>2</td>\n      <td>2</td>\n      <td>0</td>\n      <td>0</td>\n      <td>0</td>\n      <td>0</td>\n      <td>0</td>\n      <td>40</td>\n      <td>0</td>\n      <td>0</td>\n    </tr>\n    <tr>\n      <th>3</th>\n      <td>53</td>\n      <td>2</td>\n      <td>234721</td>\n      <td>2</td>\n      <td>7</td>\n      <td>1</td>\n      <td>2</td>\n      <td>1</td>\n      <td>1</td>\n      <td>0</td>\n      <td>0</td>\n      <td>0</td>\n      <td>40</td>\n      <td>0</td>\n      <td>0</td>\n    </tr>\n    <tr>\n      <th>4</th>\n      <td>28</td>\n      <td>2</td>\n      <td>338409</td>\n      <td>0</td>\n      <td>13</td>\n      <td>1</td>\n      <td>3</td>\n      <td>2</td>\n      <td>1</td>\n      <td>1</td>\n      <td>0</td>\n      <td>0</td>\n      <td>40</td>\n      <td>1</td>\n      <td>0</td>\n    </tr>\n  </tbody>\n</table>\n</div>"
     },
     "execution_count": 8,
     "metadata": {},
     "output_type": "execute_result"
    }
   ],
   "source": [
    "numerical_employment = pd.factorize(df['employment_type'])[0]\n",
    "numerical_employment_area = pd.factorize(df['employment_area'])[0]\n",
    "numerical_education_level = pd.factorize(df['education_level'])[0]\n",
    "numerical_marital_status = pd.factorize(df['marital_status'])[0]\n",
    "numerical_partnership = pd.factorize(df['partnership'])[0]\n",
    "numerical_ethnicity = pd.factorize(df['ethnicity'])[0]\n",
    "numerical_gender = pd.factorize(df['gender'])[0]\n",
    "numerical_birth_country = pd.factorize(df['birth_country'])[0]\n",
    "numerical_income_range = pd.factorize(df['income_range'])[0]\n",
    "\n",
    "\n",
    "df['employment_type'] = numerical_employment\n",
    "df['education_level'] = numerical_education_level\n",
    "df['marital_status'] = numerical_marital_status\n",
    "df['partnership'] = numerical_partnership\n",
    "df['ethnicity'] = numerical_ethnicity\n",
    "df['gender'] = numerical_gender\n",
    "df['birth_country'] = numerical_birth_country\n",
    "df['employment_area'] = numerical_employment_area\n",
    "df['income_range'] = numerical_income_range\n",
    "df.head()"
   ],
   "metadata": {
    "collapsed": false,
    "pycharm": {
     "name": "#%%\n"
    }
   }
  },
  {
   "cell_type": "markdown",
   "source": [
    "### Separate X from y"
   ],
   "metadata": {
    "collapsed": false,
    "pycharm": {
     "name": "#%% md\n"
    }
   }
  },
  {
   "cell_type": "code",
   "execution_count": 9,
   "outputs": [
    {
     "data": {
      "text/plain": "   age  employment_type  bias_weight  education_level  education_period  \\\n0   39                0        77516                0                13   \n1   50                1        83311                0                13   \n2   38                2       215646                1                 9   \n3   53                2       234721                2                 7   \n4   28                2       338409                0                13   \n\n   marital_status  employment_area  partnership  ethnicity  gender  \\\n0               0                0            0          0       0   \n1               1                1            1          0       0   \n2               2                2            0          0       0   \n3               1                2            1          1       0   \n4               1                3            2          1       1   \n\n   investment_gain  investment_loss  weekly_workload  birth_country  \n0             2174                0               40              0  \n1                0                0               13              0  \n2                0                0               40              0  \n3                0                0               40              0  \n4                0                0               40              1  ",
      "text/html": "<div>\n<style scoped>\n    .dataframe tbody tr th:only-of-type {\n        vertical-align: middle;\n    }\n\n    .dataframe tbody tr th {\n        vertical-align: top;\n    }\n\n    .dataframe thead th {\n        text-align: right;\n    }\n</style>\n<table border=\"1\" class=\"dataframe\">\n  <thead>\n    <tr style=\"text-align: right;\">\n      <th></th>\n      <th>age</th>\n      <th>employment_type</th>\n      <th>bias_weight</th>\n      <th>education_level</th>\n      <th>education_period</th>\n      <th>marital_status</th>\n      <th>employment_area</th>\n      <th>partnership</th>\n      <th>ethnicity</th>\n      <th>gender</th>\n      <th>investment_gain</th>\n      <th>investment_loss</th>\n      <th>weekly_workload</th>\n      <th>birth_country</th>\n    </tr>\n  </thead>\n  <tbody>\n    <tr>\n      <th>0</th>\n      <td>39</td>\n      <td>0</td>\n      <td>77516</td>\n      <td>0</td>\n      <td>13</td>\n      <td>0</td>\n      <td>0</td>\n      <td>0</td>\n      <td>0</td>\n      <td>0</td>\n      <td>2174</td>\n      <td>0</td>\n      <td>40</td>\n      <td>0</td>\n    </tr>\n    <tr>\n      <th>1</th>\n      <td>50</td>\n      <td>1</td>\n      <td>83311</td>\n      <td>0</td>\n      <td>13</td>\n      <td>1</td>\n      <td>1</td>\n      <td>1</td>\n      <td>0</td>\n      <td>0</td>\n      <td>0</td>\n      <td>0</td>\n      <td>13</td>\n      <td>0</td>\n    </tr>\n    <tr>\n      <th>2</th>\n      <td>38</td>\n      <td>2</td>\n      <td>215646</td>\n      <td>1</td>\n      <td>9</td>\n      <td>2</td>\n      <td>2</td>\n      <td>0</td>\n      <td>0</td>\n      <td>0</td>\n      <td>0</td>\n      <td>0</td>\n      <td>40</td>\n      <td>0</td>\n    </tr>\n    <tr>\n      <th>3</th>\n      <td>53</td>\n      <td>2</td>\n      <td>234721</td>\n      <td>2</td>\n      <td>7</td>\n      <td>1</td>\n      <td>2</td>\n      <td>1</td>\n      <td>1</td>\n      <td>0</td>\n      <td>0</td>\n      <td>0</td>\n      <td>40</td>\n      <td>0</td>\n    </tr>\n    <tr>\n      <th>4</th>\n      <td>28</td>\n      <td>2</td>\n      <td>338409</td>\n      <td>0</td>\n      <td>13</td>\n      <td>1</td>\n      <td>3</td>\n      <td>2</td>\n      <td>1</td>\n      <td>1</td>\n      <td>0</td>\n      <td>0</td>\n      <td>40</td>\n      <td>1</td>\n    </tr>\n  </tbody>\n</table>\n</div>"
     },
     "execution_count": 9,
     "metadata": {},
     "output_type": "execute_result"
    }
   ],
   "source": [
    "y = df['income_range']\n",
    "\n",
    "X = df.drop(['income_range'], axis=1)\n",
    "\n",
    "X.head()"
   ],
   "metadata": {
    "collapsed": false,
    "pycharm": {
     "name": "#%%\n"
    }
   }
  },
  {
   "cell_type": "markdown",
   "source": [
    "### Split into train and test data"
   ],
   "metadata": {
    "collapsed": false,
    "pycharm": {
     "name": "#%% md\n"
    }
   }
  },
  {
   "cell_type": "code",
   "execution_count": 10,
   "outputs": [],
   "source": [
    "X_train, X_test, y_train, y_test = train_test_split(X, y, test_size=0.33, random_state=42)"
   ],
   "metadata": {
    "collapsed": false,
    "pycharm": {
     "name": "#%%\n"
    }
   }
  },
  {
   "cell_type": "markdown",
   "source": [
    "## Train and Evaluate\n",
    "### Log. Regression: Find best C hyperparameter"
   ],
   "metadata": {
    "collapsed": false,
    "pycharm": {
     "name": "#%% md\n"
    }
   }
  },
  {
   "cell_type": "code",
   "execution_count": 11,
   "outputs": [
    {
     "name": "stdout",
     "output_type": "stream",
     "text": [
      "C is: 1e-06\n",
      "[-0.00014929] [[-2.88134141e-03 -3.20756545e-04 -5.30945572e-06 -7.07356918e-04\n",
      "  -7.41222958e-04 -1.71293978e-04 -1.05198770e-03 -4.48317790e-04\n",
      "  -8.05379430e-05 -1.52343417e-04  3.07974323e-04  7.73201229e-04\n",
      "  -3.09761340e-03 -2.45708236e-04]]\n",
      "0.794\n",
      "C is: 1e-05\n",
      "[-0.0016864] [[-2.77639418e-03 -2.87822278e-03 -4.07910758e-06 -8.01733102e-03\n",
      "  -2.62512586e-03 -1.39182058e-03 -1.20418454e-02 -5.90663217e-03\n",
      "  -1.03311547e-03 -2.08781742e-03  3.13882665e-04  8.05516350e-04\n",
      "  -7.13556932e-03 -2.95935355e-03]]\n",
      "0.7958\n",
      "C is: 0.0001\n",
      "[-0.00034555] [[-6.70774345e-03 -7.46585407e-04 -3.84245640e-06 -1.64632420e-03\n",
      "  -1.72583482e-03 -3.98620374e-04 -2.44799622e-03 -1.04320568e-03\n",
      "  -1.87421168e-04 -3.54479158e-04  3.19421261e-04  8.23172726e-04\n",
      "  -7.21192468e-03 -5.71918511e-04]]\n",
      "0.7952\n",
      "C is: 0.001\n",
      "[-0.0003498] [[-6.79074944e-03 -7.55815209e-04 -3.81152100e-06 -1.66667026e-03\n",
      "  -1.74718852e-03 -4.03547954e-04 -2.47824650e-03 -1.05609373e-03\n",
      "  -1.89736815e-04 -3.58858173e-04  3.19706257e-04  8.24296669e-04\n",
      "  -7.30116317e-03 -5.78986484e-04]]\n",
      "0.795\n",
      "C is: 0.01\n",
      "[-0.00035023] [[-6.79913466e-03 -7.56743016e-04 -3.80839757e-06 -1.66871249e-03\n",
      "  -1.74934229e-03 -4.04043541e-04 -2.48128268e-03 -1.05738589e-03\n",
      "  -1.89969031e-04 -3.59297071e-04  3.19733272e-04  8.24405451e-04\n",
      "  -7.31017059e-03 -5.79695624e-04]]\n",
      "0.795\n",
      "C is: 0.1\n",
      "[-0.00035027] [[-6.79997030e-03 -7.56835831e-04 -3.80808528e-06 -1.66891703e-03\n",
      "  -1.74955718e-03 -4.04093098e-04 -2.48158677e-03 -1.05751542e-03\n",
      "  -1.89992305e-04 -3.59341077e-04  3.19736550e-04  8.24415449e-04\n",
      "  -7.31106881e-03 -5.79766670e-04]]\n",
      "0.795\n",
      "C is: 1\n",
      "[-0.00035028] [[-6.80003815e-03 -7.56843307e-04 -3.80806234e-06 -1.66893346e-03\n",
      "  -1.74957459e-03 -4.04097094e-04 -2.48161120e-03 -1.05752580e-03\n",
      "  -1.89994172e-04 -3.59344605e-04  3.19737350e-04  8.24418192e-04\n",
      "  -7.31114165e-03 -5.79772374e-04]]\n",
      "0.795\n",
      "C is: 100\n",
      "[-0.00035028] [[-6.80004379e-03 -7.56843928e-04 -3.80806035e-06 -1.66893483e-03\n",
      "  -1.74957603e-03 -4.04097426e-04 -2.48161323e-03 -1.05752667e-03\n",
      "  -1.89994328e-04 -3.59344898e-04  3.19737435e-04  8.24418595e-04\n",
      "  -7.31114770e-03 -5.79772849e-04]]\n",
      "0.795\n",
      "C is: 1000\n",
      "[-0.00035028] [[-6.80004384e-03 -7.56843934e-04 -3.80806033e-06 -1.66893484e-03\n",
      "  -1.74957605e-03 -4.04097429e-04 -2.48161325e-03 -1.05752668e-03\n",
      "  -1.89994329e-04 -3.59344901e-04  3.19737436e-04  8.24418598e-04\n",
      "  -7.31114775e-03 -5.79772853e-04]]\n",
      "0.795\n",
      "C is: 10000\n",
      "[-0.00035028] [[-6.80004384e-03 -7.56843934e-04 -3.80806033e-06 -1.66893484e-03\n",
      "  -1.74957605e-03 -4.04097429e-04 -2.48161325e-03 -1.05752668e-03\n",
      "  -1.89994329e-04 -3.59344901e-04  3.19737436e-04  8.24418599e-04\n",
      "  -7.31114775e-03 -5.79772854e-04]]\n",
      "0.795\n"
     ]
    }
   ],
   "source": [
    "for c in [0.000001, 0.00001, 0.0001, 0.001, 0.01, 0.1, 1, 100, 1000, 10000]:\n",
    "    clf = LogisticRegression(C=c)\n",
    "\n",
    "    clf.fit(X,y)\n",
    "\n",
    "    print(\"C is: \" + str(c))\n",
    "    print(clf.intercept_, clf.coef_)\n",
    "    print (clf.score(X, y))"
   ],
   "metadata": {
    "collapsed": false,
    "pycharm": {
     "name": "#%%\n"
    }
   }
  },
  {
   "cell_type": "markdown",
   "source": [
    "### We'll settle with 100 as after that score doesn't change that much, now predict y for our train set and see how well we predict"
   ],
   "metadata": {
    "collapsed": false,
    "pycharm": {
     "name": "#%% md\n"
    }
   }
  },
  {
   "cell_type": "markdown",
   "source": [
    "### Log. Regression: Train and test"
   ],
   "metadata": {
    "collapsed": false,
    "pycharm": {
     "name": "#%% md\n"
    }
   }
  },
  {
   "cell_type": "code",
   "execution_count": 12,
   "outputs": [
    {
     "name": "stdout",
     "output_type": "stream",
     "text": [
      "Accuracy on training data: 0.8026865671641791\n",
      "Accuracy on test data: 0.7751515151515151\n",
      "[[1170   41]\n",
      " [ 330  109]]\n"
     ]
    },
    {
     "data": {
      "text/plain": "<Figure size 432x288 with 1 Axes>",
      "image/png": "[encoded data removed]"
     },
     "metadata": {
      "needs_background": "light"
     },
     "output_type": "display_data"
    }
   ],
   "source": [
    "clf = LogisticRegression(C=100)\n",
    "\n",
    "clf.fit(X_train,y_train)\n",
    "training_predictions = clf.predict(X_train)\n",
    "test_predictions = clf.predict(X_test)\n",
    "\n",
    "print(f\"Accuracy on training data: {accuracy_score(y_train, training_predictions)}\")\n",
    "print(f\"Accuracy on test data: {accuracy_score(y_test, test_predictions)}\")\n",
    "print(confusion_matrix(y_test, test_predictions))\n",
    "metrics.plot_roc_curve(clf, X_test, y_test)\n",
    "plt.show()"
   ],
   "metadata": {
    "collapsed": false,
    "pycharm": {
     "name": "#%%\n"
    }
   }
  },
  {
   "cell_type": "markdown",
   "source": [
    "### Support Vector Machine: find best gamma\n"
   ],
   "metadata": {
    "collapsed": false,
    "pycharm": {
     "name": "#%% md\n"
    }
   }
  },
  {
   "cell_type": "code",
   "execution_count": 13,
   "outputs": [
    {
     "name": "stdout",
     "output_type": "stream",
     "text": [
      "C is: 1e-06\n",
      "[-0.32203208]\n",
      "0.8464\n",
      "C is: 1e-05\n",
      "[-0.60519216]\n",
      "0.9328\n",
      "C is: 0.0001\n",
      "[-0.53345371]\n",
      "0.9944\n",
      "C is: 0.001\n",
      "[-0.49984549]\n",
      "1.0\n",
      "C is: 0.01\n",
      "[-0.5123603]\n",
      "1.0\n",
      "C is: 0.1\n",
      "[-0.51156112]\n",
      "1.0\n",
      "C is: 1\n",
      "[-0.5114369]\n",
      "1.0\n",
      "C is: 100\n",
      "[-0.5115023]\n",
      "1.0\n",
      "C is: 1000\n",
      "[-0.5115023]\n",
      "1.0\n",
      "C is: 10000\n",
      "[-0.5115023]\n",
      "1.0\n"
     ]
    }
   ],
   "source": [
    "for c in [0.000001, 0.00001, 0.0001, 0.001, 0.01, 0.1, 1, 100, 1000, 10000]:\n",
    "    clf = SVC(gamma=c, C=100, kernel='rbf')\n",
    "\n",
    "    clf.fit(X,y)\n",
    "\n",
    "    print(\"C is: \" + str(c))\n",
    "    print(clf.intercept_)\n",
    "    print (clf.score(X, y))"
   ],
   "metadata": {
    "collapsed": false,
    "pycharm": {
     "name": "#%%\n"
    }
   }
  },
  {
   "cell_type": "markdown",
   "source": [
    "### We get really good estimations with gamma > 0.001, so let's use 1."
   ],
   "metadata": {
    "collapsed": false,
    "pycharm": {
     "name": "#%% md\n"
    }
   }
  },
  {
   "cell_type": "code",
   "execution_count": 14,
   "outputs": [
    {
     "name": "stdout",
     "output_type": "stream",
     "text": [
      "[0 0 0 ... 0 0 0]\n",
      "Accuracy on training data: 1.0\n",
      "Accuracy on test data: 0.7339393939393939\n",
      "[[1211    0]\n",
      " [ 439    0]]\n"
     ]
    },
    {
     "data": {
      "text/plain": "<Figure size 432x288 with 1 Axes>",
      "image/png": "[encoded data removed]"
     },
     "metadata": {
      "needs_background": "light"
     },
     "output_type": "display_data"
    }
   ],
   "source": [
    "clf = SVC(kernel='rbf',gamma=1, C=100)\n",
    "\n",
    "clf.fit(X_train,y_train)\n",
    "training_predictions = clf.predict(X_train)\n",
    "test_predictions = clf.predict(X_test)\n",
    "print(test_predictions)\n",
    "print(f\"Accuracy on training data: {accuracy_score(y_train, training_predictions)}\")\n",
    "print(f\"Accuracy on test data: {accuracy_score(y_test, test_predictions)}\")\n",
    "print(confusion_matrix(y_test, test_predictions))\n",
    "metrics.plot_roc_curve(clf, X_test, y_test)\n",
    "plt.show()"
   ],
   "metadata": {
    "collapsed": false,
    "pycharm": {
     "name": "#%%\n"
    }
   }
  },
  {
   "cell_type": "markdown",
   "source": [
    "### Let's test some more Linear models"
   ],
   "metadata": {
    "collapsed": false
   }
  },
  {
   "cell_type": "code",
   "execution_count": 15,
   "outputs": [
    {
     "name": "stdout",
     "output_type": "stream",
     "text": [
      "[0 0 0 ... 0 1 0]\n",
      "Accuracy on training data: 0.7898507462686567\n",
      "Accuracy on test data: 0.756969696969697\n",
      "[[1207    4]\n",
      " [ 397   42]]\n"
     ]
    },
    {
     "name": "stderr",
     "output_type": "stream",
     "text": [
      "/usr/local/lib/python3.9/site-packages/sklearn/svm/_base.py:985: ConvergenceWarning: Liblinear failed to converge, increase the number of iterations.\n",
      "  warnings.warn(\"Liblinear failed to converge, increase \"\n"
     ]
    },
    {
     "data": {
      "text/plain": "<Figure size 432x288 with 1 Axes>",
      "image/png": "[encoded data removed]"
     },
     "metadata": {
      "needs_background": "light"
     },
     "output_type": "display_data"
    }
   ],
   "source": [
    "clf = LinearSVC(C=100, max_iter=99999)\n",
    "clf.fit(X_train,y_train)\n",
    "training_predictions = clf.predict(X_train)\n",
    "test_predictions = clf.predict(X_test)\n",
    "print(test_predictions)\n",
    "print(f\"Accuracy on training data: {accuracy_score(y_train, training_predictions)}\")\n",
    "print(f\"Accuracy on test data: {accuracy_score(y_test, test_predictions)}\")\n",
    "print(confusion_matrix(y_test, test_predictions))\n",
    "metrics.plot_roc_curve(clf, X_test, y_test)\n",
    "plt.show()"
   ],
   "metadata": {
    "collapsed": false,
    "pycharm": {
     "name": "#%%\n"
    }
   }
  },
  {
   "cell_type": "code",
   "execution_count": 16,
   "outputs": [
    {
     "name": "stderr",
     "output_type": "stream",
     "text": [
      "/usr/local/lib/python3.9/site-packages/sklearn/svm/_base.py:985: ConvergenceWarning: Liblinear failed to converge, increase the number of iterations.\n",
      "  warnings.warn(\"Liblinear failed to converge, increase \"\n"
     ]
    },
    {
     "name": "stdout",
     "output_type": "stream",
     "text": [
      "[0 0 0 ... 0 1 0]\n",
      "Accuracy on training data: 0.7952238805970149\n",
      "Accuracy on test data: 0.7654545454545455\n",
      "[[1207    4]\n",
      " [ 383   56]]\n"
     ]
    },
    {
     "data": {
      "text/plain": "<Figure size 432x288 with 1 Axes>",
      "image/png": "[encoded data removed]"
     },
     "metadata": {
      "needs_background": "light"
     },
     "output_type": "display_data"
    }
   ],
   "source": [
    "clf = LinearSVC(C=100, max_iter=99999)\n",
    "clf.fit(X_train,y_train)\n",
    "training_predictions = clf.predict(X_train)\n",
    "test_predictions = clf.predict(X_test)\n",
    "print(test_predictions)\n",
    "print(f\"Accuracy on training data: {accuracy_score(y_train, training_predictions)}\")\n",
    "print(f\"Accuracy on test data: {accuracy_score(y_test, test_predictions)}\")\n",
    "print(confusion_matrix(y_test, test_predictions))\n",
    "metrics.plot_roc_curve(clf, X_test, y_test)\n",
    "plt.show()"
   ],
   "metadata": {
    "collapsed": false,
    "pycharm": {
     "name": "#%%\n"
    }
   }
  },
  {
   "cell_type": "code",
   "execution_count": 17,
   "outputs": [
    {
     "name": "stdout",
     "output_type": "stream",
     "text": [
      "[0 0 0 ... 0 1 0]\n",
      "Accuracy on training data: 1.0\n",
      "Accuracy on test data: 0.8333333333333334\n",
      "[[1136   75]\n",
      " [ 200  239]]\n"
     ]
    },
    {
     "data": {
      "text/plain": "<Figure size 432x288 with 1 Axes>",
      "image/png": "[encoded data removed]"
     },
     "metadata": {
      "needs_background": "light"
     },
     "output_type": "display_data"
    }
   ],
   "source": [
    "clf = GradientBoostingClassifier(n_estimators=100, learning_rate=1.0,max_depth=10, random_state=0)\n",
    "clf.fit(X_train, y_train)\n",
    "training_predictions = clf.predict(X_train)\n",
    "test_predictions = clf.predict(X_test)\n",
    "print(test_predictions)\n",
    "print(f\"Accuracy on training data: {accuracy_score(y_train, training_predictions)}\")\n",
    "print(f\"Accuracy on test data: {accuracy_score(y_test, test_predictions)}\")\n",
    "print(confusion_matrix(y_test, test_predictions))\n",
    "metrics.plot_roc_curve(clf, X_test, y_test)\n",
    "plt.show()"
   ],
   "metadata": {
    "collapsed": false,
    "pycharm": {
     "name": "#%%\n"
    }
   }
  },
  {
   "cell_type": "markdown",
   "source": [
    "### But accuracy on test data is still below our Log. Regression, let's try now with non-linear classifier types, such as RandomForest:"
   ],
   "metadata": {
    "collapsed": false,
    "pycharm": {
     "name": "#%% md\n"
    }
   }
  },
  {
   "cell_type": "code",
   "execution_count": 18,
   "outputs": [
    {
     "name": "stdout",
     "output_type": "stream",
     "text": [
      "Accuracy on training data: 1.0\n",
      "Accuracy on test data: 0.8321212121212122\n",
      "[[1125   86]\n",
      " [ 191  248]]\n"
     ]
    },
    {
     "data": {
      "text/plain": "<Figure size 432x288 with 1 Axes>",
      "image/png": "[encoded data removed]"
     },
     "metadata": {
      "needs_background": "light"
     },
     "output_type": "display_data"
    }
   ],
   "source": [
    "clf = RandomForestClassifier(max_depth=30, n_estimators=100)\n",
    "clf.fit(X_train, y_train)\n",
    "\n",
    "training_predictions = clf.predict(X_train)\n",
    "test_predictions = clf.predict(X_test)\n",
    "\n",
    "print(f\"Accuracy on training data: {accuracy_score(y_train, training_predictions)}\")\n",
    "print(f\"Accuracy on test data: {accuracy_score(y_test, test_predictions)}\")\n",
    "print(confusion_matrix(y_test, test_predictions))\n",
    "metrics.plot_roc_curve(clf, X_test, y_test)\n",
    "plt.show()"
   ],
   "metadata": {
    "collapsed": false,
    "pycharm": {
     "name": "#%%\n"
    }
   }
  },
  {
   "cell_type": "markdown",
   "source": [
    "### And Neural Networks:"
   ],
   "metadata": {
    "collapsed": false,
    "pycharm": {
     "name": "#%% md\n"
    }
   }
  },
  {
   "cell_type": "code",
   "execution_count": 20,
   "outputs": [
    {
     "name": "stdout",
     "output_type": "stream",
     "text": [
      "105/105 [==============================] - 1s 1ms/step - loss: 0.0000e+00 - categorical_accuracy: 1.0000\b\b\b\b\b\b\b\b\b\b\b\b\b\b\b\b\b\b\b\b\b\b\b\b\b\b\b\b\b\b\b\b\b\b\b\b\b\b\b\b\b\b\b\b\b\b\b\b\b\b\b\b\b\b\b\b\b\b\b\b\b\b\b\b\b\b\b\b\b\b\b\b\b\b\b\b\b\b\b\b\b\b\b\b\b\b\b\b\b\b\b\b\b\b\b\b\b\b\b\b\b\b\b\b\b\b\b\b\b\b\b\b\b\b\b\b\b\b\b\b\b\b\b\b\b\b\b\b\b\b\b\b\b\b\b\b\b\b\b\b\b\b\b\b\b\b\b\b\b\b\b\b\b\b\b\b\b\b\b\b\b\b\b\b\b\b\b\b\b\b\b\b\b\b\b\b\b\b\b\b\b\b\b\b\b\b\b\b\b\b\b\b\b\b\b\b\b\b\b\b\b\b\b\b\b\b\b\b\b\b\b\b\b\b\b\b\b\b\b\b\b\b\b\b\b\b\b\b\b\b\b\b\b\b\b\b\b\b\b\b\b\b\b\b\b\b\b\b\b\b\b\b\b\b\b\b\b\b\b\b\b\b\b\b\b\b\b\b\b\b\b\b\b\b\b\b\b\b\b\b\b\b\b\b\b\b\b\b\b\b\b\b\b\b\b\b\b\b\n",
      "Accuracy on training data: 0.7665671641791045\n",
      "Accuracy on test data: 0.7339393939393939\n",
      "[[1211    0]\n",
      " [ 439    0]]\n"
     ]
    },
    {
     "ename": "ValueError",
     "evalue": "Functional should be a binary classifier",
     "output_type": "error",
     "traceback": [
      "\u001B[0;31m---------------------------------------------------------------------------\u001B[0m",
      "\u001B[0;31mValueError\u001B[0m                                Traceback (most recent call last)",
      "\u001B[0;32m<ipython-input-20-b9913eda59eb>\u001B[0m in \u001B[0;36m<module>\u001B[0;34m\u001B[0m\n\u001B[1;32m     25\u001B[0m \u001B[0mconfusion_matrix\u001B[0m\u001B[0;34m(\u001B[0m\u001B[0my_test\u001B[0m\u001B[0;34m,\u001B[0m \u001B[0mtest_predictions\u001B[0m\u001B[0;34m)\u001B[0m\u001B[0;34m\u001B[0m\u001B[0;34m\u001B[0m\u001B[0m\n\u001B[1;32m     26\u001B[0m \u001B[0mprint\u001B[0m\u001B[0;34m(\u001B[0m\u001B[0mconfusion_matrix\u001B[0m\u001B[0;34m(\u001B[0m\u001B[0my_test\u001B[0m\u001B[0;34m,\u001B[0m \u001B[0mtest_predictions\u001B[0m\u001B[0;34m)\u001B[0m\u001B[0;34m)\u001B[0m\u001B[0;34m\u001B[0m\u001B[0;34m\u001B[0m\u001B[0m\n\u001B[0;32m---> 27\u001B[0;31m \u001B[0mmetrics\u001B[0m\u001B[0;34m.\u001B[0m\u001B[0mplot_roc_curve\u001B[0m\u001B[0;34m(\u001B[0m\u001B[0mclf\u001B[0m\u001B[0;34m,\u001B[0m \u001B[0mX_test\u001B[0m\u001B[0;34m,\u001B[0m \u001B[0my_test\u001B[0m\u001B[0;34m)\u001B[0m\u001B[0;34m\u001B[0m\u001B[0;34m\u001B[0m\u001B[0m\n\u001B[0m\u001B[1;32m     28\u001B[0m \u001B[0mplt\u001B[0m\u001B[0;34m.\u001B[0m\u001B[0mshow\u001B[0m\u001B[0;34m(\u001B[0m\u001B[0;34m)\u001B[0m\u001B[0;34m\u001B[0m\u001B[0;34m\u001B[0m\u001B[0m\n\u001B[1;32m     29\u001B[0m \u001B[0;34m\u001B[0m\u001B[0m\n",
      "\u001B[0;32m/usr/local/lib/python3.9/site-packages/sklearn/utils/validation.py\u001B[0m in \u001B[0;36minner_f\u001B[0;34m(*args, **kwargs)\u001B[0m\n\u001B[1;32m     61\u001B[0m             \u001B[0mextra_args\u001B[0m \u001B[0;34m=\u001B[0m \u001B[0mlen\u001B[0m\u001B[0;34m(\u001B[0m\u001B[0margs\u001B[0m\u001B[0;34m)\u001B[0m \u001B[0;34m-\u001B[0m \u001B[0mlen\u001B[0m\u001B[0;34m(\u001B[0m\u001B[0mall_args\u001B[0m\u001B[0;34m)\u001B[0m\u001B[0;34m\u001B[0m\u001B[0;34m\u001B[0m\u001B[0m\n\u001B[1;32m     62\u001B[0m             \u001B[0;32mif\u001B[0m \u001B[0mextra_args\u001B[0m \u001B[0;34m<=\u001B[0m \u001B[0;36m0\u001B[0m\u001B[0;34m:\u001B[0m\u001B[0;34m\u001B[0m\u001B[0;34m\u001B[0m\u001B[0m\n\u001B[0;32m---> 63\u001B[0;31m                 \u001B[0;32mreturn\u001B[0m \u001B[0mf\u001B[0m\u001B[0;34m(\u001B[0m\u001B[0;34m*\u001B[0m\u001B[0margs\u001B[0m\u001B[0;34m,\u001B[0m \u001B[0;34m**\u001B[0m\u001B[0mkwargs\u001B[0m\u001B[0;34m)\u001B[0m\u001B[0;34m\u001B[0m\u001B[0;34m\u001B[0m\u001B[0m\n\u001B[0m\u001B[1;32m     64\u001B[0m \u001B[0;34m\u001B[0m\u001B[0m\n\u001B[1;32m     65\u001B[0m             \u001B[0;31m# extra_args > 0\u001B[0m\u001B[0;34m\u001B[0m\u001B[0;34m\u001B[0m\u001B[0;34m\u001B[0m\u001B[0m\n",
      "\u001B[0;32m/usr/local/lib/python3.9/site-packages/sklearn/metrics/_plot/roc_curve.py\u001B[0m in \u001B[0;36mplot_roc_curve\u001B[0;34m(estimator, X, y, sample_weight, drop_intermediate, response_method, name, ax, pos_label, **kwargs)\u001B[0m\n\u001B[1;32m    210\u001B[0m     \u001B[0mcheck_matplotlib_support\u001B[0m\u001B[0;34m(\u001B[0m\u001B[0;34m'plot_roc_curve'\u001B[0m\u001B[0;34m)\u001B[0m\u001B[0;34m\u001B[0m\u001B[0;34m\u001B[0m\u001B[0m\n\u001B[1;32m    211\u001B[0m \u001B[0;34m\u001B[0m\u001B[0m\n\u001B[0;32m--> 212\u001B[0;31m     y_pred, pos_label = _get_response(\n\u001B[0m\u001B[1;32m    213\u001B[0m         X, estimator, response_method, pos_label=pos_label)\n\u001B[1;32m    214\u001B[0m \u001B[0;34m\u001B[0m\u001B[0m\n",
      "\u001B[0;32m/usr/local/lib/python3.9/site-packages/sklearn/metrics/_plot/base.py\u001B[0m in \u001B[0;36m_get_response\u001B[0;34m(X, estimator, response_method, pos_label)\u001B[0m\n\u001B[1;32m     84\u001B[0m \u001B[0;34m\u001B[0m\u001B[0m\n\u001B[1;32m     85\u001B[0m     \u001B[0;32mif\u001B[0m \u001B[0;32mnot\u001B[0m \u001B[0mis_classifier\u001B[0m\u001B[0;34m(\u001B[0m\u001B[0mestimator\u001B[0m\u001B[0;34m)\u001B[0m\u001B[0;34m:\u001B[0m\u001B[0;34m\u001B[0m\u001B[0;34m\u001B[0m\u001B[0m\n\u001B[0;32m---> 86\u001B[0;31m         \u001B[0;32mraise\u001B[0m \u001B[0mValueError\u001B[0m\u001B[0;34m(\u001B[0m\u001B[0mclassification_error\u001B[0m\u001B[0;34m)\u001B[0m\u001B[0;34m\u001B[0m\u001B[0;34m\u001B[0m\u001B[0m\n\u001B[0m\u001B[1;32m     87\u001B[0m \u001B[0;34m\u001B[0m\u001B[0m\n\u001B[1;32m     88\u001B[0m     prediction_method = _check_classifier_response_method(\n",
      "\u001B[0;31mValueError\u001B[0m: Functional should be a binary classifier"
     ]
    }
   ],
   "source": [
    "inputs = keras.Input(shape=(14,))\n",
    "x = layers.Dense(100, activation=\"relu\", name=\"dense_1\")(inputs)\n",
    "y = layers.Dense(100, activation=\"relu\", name=\"dense_2\")(x)\n",
    "z = layers.Dense(100, activation=\"relu\", name=\"dense_3\")(y)\n",
    "outputs = layers.Dense(1, activation=\"softmax\", name=\"predictions\")(z)\n",
    "\n",
    "clf = keras.Model(inputs=inputs, outputs=outputs)\n",
    "\n",
    "\n",
    "# compile the model\n",
    "clf.compile(\n",
    "    # Loss function to minimize\n",
    "    loss=keras.losses.CategoricalCrossentropy(),\n",
    "    # List of metrics to monitor\n",
    "    metrics=[keras.metrics.CategoricalAccuracy()],\n",
    ")\n",
    "\n",
    "clf.fit(X_train, y_train)\n",
    "\n",
    "training_predictions = list(map(lambda x: 0 if x == 1 else 1, clf.predict(X_train)))\n",
    "test_predictions = list(map(lambda x: 0 if x == 1 else 1, clf.predict(X_test)))\n",
    "\n",
    "print(f\"Accuracy on training data: {accuracy_score(y_train, training_predictions)}\")\n",
    "print(f\"Accuracy on test data: {accuracy_score(y_test, test_predictions)}\")\n",
    "confusion_matrix(y_test, test_predictions)\n",
    "print(confusion_matrix(y_test, test_predictions))\n",
    "metrics.plot_roc_curve(clf, X_test, y_test)\n",
    "plt.show()"
   ],
   "metadata": {
    "collapsed": false,
    "pycharm": {
     "name": "#%%\n"
    }
   }
  },
  {
   "cell_type": "markdown",
   "source": [],
   "metadata": {
    "collapsed": false,
    "pycharm": {
     "name": "#%% md\n"
    }
   }
  },
  {
   "cell_type": "markdown",
   "source": [
    "### Test the best performing models with cross-validation"
   ],
   "metadata": {
    "collapsed": false
   }
  },
  {
   "cell_type": "code",
   "source": [
    "gb_clf = GradientBoostingClassifier(n_estimators=100, learning_rate=1.0,max_depth=10, random_state=0).fit(X, y)\n",
    "\n",
    "print(cross_validate(gb_clf, X, y, cv=5))\n",
    "\n",
    "rf_clf = RandomForestClassifier(max_depth=30, n_estimators=100).fit(X, y)\n",
    "\n",
    "print(cross_validate(rf_clf, X, y, cv=5))\n",
    "\n",
    "lr_clf = LogisticRegression(C=100)\n",
    "\n",
    "print(cross_validate(lr_clf, X, y, cv=5))"
   ],
   "metadata": {
    "collapsed": false,
    "pycharm": {
     "name": "#%%\n"
    }
   },
   "execution_count": null,
   "outputs": []
  },
  {
   "cell_type": "markdown",
   "source": [
    "Best performance: LogisticRegression\n",
    "Best results: GradientBoostingClassifier\n",
    "Best overall: RandomForestClassifier\n",
    "\n",
    "Results from the three are fairly consistent, but RandomForest has the best value x effort ratio\n",
    "\n",
    "## Feature Selection\n",
    "\n",
    "### Now that enough was tested about different models, let's work on Feature Selection, we will focus mainly on Variance and Similarity criterias"
   ],
   "metadata": {
    "collapsed": false,
    "pycharm": {
     "name": "#%% md\n",
     "is_executing": true
    }
   }
  },
  {
   "cell_type": "code",
   "execution_count": null,
   "outputs": [],
   "source": [
    "print(f\"Variance: \")\n",
    "print(X.var())\n",
    "\n",
    "print(f\"Standard Deviation: \")\n",
    "print(X.std())\n",
    "\n",
    "\n",
    "mutual_info_classif(X,y)"
   ],
   "metadata": {
    "collapsed": false,
    "pycharm": {
     "name": "#%%\n"
    }
   }
  },
  {
   "cell_type": "code",
   "execution_count": null,
   "outputs": [],
   "source": [
    "print(X.shape)\n",
    "fs = SelectKBest(score_func=chi2, k=11)\n",
    "# apply feature selection\n",
    "X_k_selected = fs.fit_transform(X, y)\n",
    "print(fs.scores_)\n",
    "X_k_selected"
   ],
   "metadata": {
    "collapsed": false,
    "pycharm": {
     "name": "#%%\n"
    }
   }
  },
  {
   "cell_type": "code",
   "execution_count": 21,
   "outputs": [
    {
     "ename": "NameError",
     "evalue": "name 'X_k_selected' is not defined",
     "output_type": "error",
     "traceback": [
      "\u001B[0;31m---------------------------------------------------------------------------\u001B[0m",
      "\u001B[0;31mNameError\u001B[0m                                 Traceback (most recent call last)",
      "\u001B[0;32m<ipython-input-21-6fdc635e032a>\u001B[0m in \u001B[0;36m<module>\u001B[0;34m\u001B[0m\n\u001B[0;32m----> 1\u001B[0;31m \u001B[0mX_k_train\u001B[0m\u001B[0;34m,\u001B[0m \u001B[0mX_k_test\u001B[0m\u001B[0;34m,\u001B[0m \u001B[0my_k_train\u001B[0m\u001B[0;34m,\u001B[0m \u001B[0my_k_test\u001B[0m \u001B[0;34m=\u001B[0m \u001B[0mtrain_test_split\u001B[0m\u001B[0;34m(\u001B[0m\u001B[0mX_k_selected\u001B[0m\u001B[0;34m,\u001B[0m \u001B[0my\u001B[0m\u001B[0;34m,\u001B[0m \u001B[0mtest_size\u001B[0m\u001B[0;34m=\u001B[0m\u001B[0;36m0.33\u001B[0m\u001B[0;34m,\u001B[0m \u001B[0mrandom_state\u001B[0m\u001B[0;34m=\u001B[0m\u001B[0;36m42\u001B[0m\u001B[0;34m)\u001B[0m\u001B[0;34m\u001B[0m\u001B[0;34m\u001B[0m\u001B[0m\n\u001B[0m\u001B[1;32m      2\u001B[0m \u001B[0;34m\u001B[0m\u001B[0m\n\u001B[1;32m      3\u001B[0m \u001B[0mclf\u001B[0m \u001B[0;34m=\u001B[0m \u001B[0mRandomForestClassifier\u001B[0m\u001B[0;34m(\u001B[0m\u001B[0mmax_depth\u001B[0m\u001B[0;34m=\u001B[0m\u001B[0;36m30\u001B[0m\u001B[0;34m,\u001B[0m \u001B[0mn_estimators\u001B[0m\u001B[0;34m=\u001B[0m\u001B[0;36m100\u001B[0m\u001B[0;34m)\u001B[0m\u001B[0;34m\u001B[0m\u001B[0;34m\u001B[0m\u001B[0m\n\u001B[1;32m      4\u001B[0m \u001B[0mclf\u001B[0m\u001B[0;34m.\u001B[0m\u001B[0mfit\u001B[0m\u001B[0;34m(\u001B[0m\u001B[0mX_k_train\u001B[0m\u001B[0;34m,\u001B[0m \u001B[0my_k_train\u001B[0m\u001B[0;34m)\u001B[0m\u001B[0;34m\u001B[0m\u001B[0;34m\u001B[0m\u001B[0m\n\u001B[1;32m      5\u001B[0m \u001B[0;34m\u001B[0m\u001B[0m\n",
      "\u001B[0;31mNameError\u001B[0m: name 'X_k_selected' is not defined"
     ]
    }
   ],
   "source": [
    "X_k_train, X_k_test, y_k_train, y_k_test = train_test_split(X_k_selected, y, test_size=0.33, random_state=42)\n",
    "\n",
    "clf = RandomForestClassifier(max_depth=30, n_estimators=100)\n",
    "clf.fit(X_k_train, y_k_train)\n",
    "\n",
    "training_predictions = clf.predict(X_k_train)\n",
    "test_predictions = clf.predict(X_k_test)\n",
    "#before\n",
    "#Accuracy on training data: 1.0\n",
    "#Accuracy on test data: 0.8296969696969697\n",
    "print(f\"Accuracy on training data: {accuracy_score(y_k_train, training_predictions)}\")\n",
    "print(f\"Accuracy on test data: {accuracy_score(y_k_test, test_predictions)}\")\n",
    "print(confusion_matrix(y_test, test_predictions))\n",
    "metrics.plot_roc_curve(clf, X_k_test, y_k_test)\n",
    "plt.show()"
   ],
   "metadata": {
    "collapsed": false,
    "pycharm": {
     "name": "#%%\n"
    }
   }
  },
  {
   "cell_type": "code",
   "execution_count": null,
   "outputs": [],
   "source": [
    "\n"
   ],
   "metadata": {
    "collapsed": false,
    "pycharm": {
     "name": "#%%\n"
    }
   }
  }
 ],
 "metadata": {
  "kernelspec": {
   "display_name": "Python 3",
   "language": "python",
   "name": "python3"
  },
  "language_info": {
   "codemirror_mode": {
    "name": "ipython",
    "version": 2
   },
   "file_extension": ".py",
   "mimetype": "text/x-python",
   "name": "python",
   "nbconvert_exporter": "python",
   "pygments_lexer": "ipython2",
   "version": "2.7.6"
  }
 },
 "nbformat": 4,
 "nbformat_minor": 0
}